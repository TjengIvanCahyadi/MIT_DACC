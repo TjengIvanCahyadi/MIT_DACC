{
  "cells": [
    {
      "cell_type": "markdown",
      "metadata": {
        "id": "PTtyhW3XOBbm"
      },
      "source": [
        "# MIT Week Competitions - Data Analyst Code Challenge\n",
        "## Json Team\n",
        "- 2009106110 Erick Apriansyah\n",
        "- 2009106115 Ahmad Riadi\n",
        "- 2009106146 Tjeng, Ivan Cahyadi\n",
        "---"
      ]
    },
    {
      "cell_type": "markdown",
      "metadata": {
        "id": "U3KRLVvZhxMN"
      },
      "source": [
        "### **Mounting Drive**"
      ]
    },
    {
      "cell_type": "code",
      "execution_count": null,
      "metadata": {
        "colab": {
          "base_uri": "https://localhost:8080/"
        },
        "id": "fX_AKUrPhmv5",
        "outputId": "b36c4a6b-529b-4d8f-e737-c0ea3e16de75"
      },
      "outputs": [
        {
          "name": "stdout",
          "output_type": "stream",
          "text": [
            "Drive already mounted at /content/drive; to attempt to forcibly remount, call drive.mount(\"/content/drive\", force_remount=True).\n"
          ]
        }
      ],
      "source": [
        "from google.colab import drive\n",
        "drive.mount('/content/drive')"
      ]
    },
    {
      "cell_type": "markdown",
      "metadata": {
        "id": "TqTAMrA9f8NI"
      },
      "source": [
        "### **Import Library**"
      ]
    },
    {
      "cell_type": "code",
      "execution_count": 4,
      "metadata": {
        "id": "reocZ0IuMtAg"
      },
      "outputs": [],
      "source": [
        "import pandas as pd\n",
        "import numpy as np\n",
        "import matplotlib.pyplot as plt\n",
        "import seaborn as sns"
      ]
    },
    {
      "cell_type": "markdown",
      "metadata": {
        "id": "DYVC44augDs0"
      },
      "source": [
        "### **Baca Dataset**"
      ]
    },
    {
      "cell_type": "code",
      "execution_count": 5,
      "metadata": {
        "id": "5EiEqP9lgK_c"
      },
      "outputs": [],
      "source": [
        "cnn_dataset = pd.read_csv('/content/drive/MyDrive/School/MIT-DACC-Json_Team/CNNIndonesia.csv')\n",
        "detikcom_dataset = pd.read_csv('/content/drive/MyDrive/School/MIT-DACC-Json_Team/detikcom.csv')\n",
        "idntimes_dataset = pd.read_csv('/content/drive/MyDrive/School/MIT-DACC-Json_Team/idntimes.csv')\n",
        "kompascom_dataset = pd.read_csv('/content/drive/MyDrive/School/MIT-DACC-Json_Team/kompascom.csv')\n",
        "kumparan_dataset = pd.read_csv('/content/drive/MyDrive/School/MIT-DACC-Json_Team/kumparan.csv')\n",
        "liputan6_dataset = pd.read_csv('/content/drive/MyDrive/School/MIT-DACC-Json_Team/liputan6dotcom.csv')\n",
        "okezonenews_dataset = pd.read_csv('/content/drive/MyDrive/School/MIT-DACC-Json_Team/okezonenews.csv')"
      ]
    },
    {
      "cell_type": "markdown",
      "metadata": {
        "id": "LpyahY6fiHwq"
      },
      "source": [
        "### **Gabung Dataset**"
      ]
    },
    {
      "cell_type": "code",
      "execution_count": 6,
      "metadata": {
        "colab": {
          "base_uri": "https://localhost:8080/",
          "height": 490
        },
        "id": "pWGcvvYziKIr",
        "outputId": "3ccd1ddf-f9d4-4cdc-c6e4-9c43313ebcf0"
      },
      "outputs": [
        {
          "data": {
            "text/html": [
              "\n",
              "  <div id=\"df-53a35706-c784-420a-99c2-4dfb23c8b0e3\">\n",
              "    <div class=\"colab-df-container\">\n",
              "      <div>\n",
              "<style scoped>\n",
              "    .dataframe tbody tr th:only-of-type {\n",
              "        vertical-align: middle;\n",
              "    }\n",
              "\n",
              "    .dataframe tbody tr th {\n",
              "        vertical-align: top;\n",
              "    }\n",
              "\n",
              "    .dataframe thead th {\n",
              "        text-align: right;\n",
              "    }\n",
              "</style>\n",
              "<table border=\"1\" class=\"dataframe\">\n",
              "  <thead>\n",
              "    <tr style=\"text-align: right;\">\n",
              "      <th></th>\n",
              "      <th>Unnamed: 0</th>\n",
              "      <th>id</th>\n",
              "      <th>conversation_id</th>\n",
              "      <th>created_at</th>\n",
              "      <th>date</th>\n",
              "      <th>time</th>\n",
              "      <th>timezone</th>\n",
              "      <th>user_id</th>\n",
              "      <th>username</th>\n",
              "      <th>name</th>\n",
              "      <th>...</th>\n",
              "      <th>replies_count</th>\n",
              "      <th>retweets_count</th>\n",
              "      <th>likes_count</th>\n",
              "      <th>hashtags</th>\n",
              "      <th>cashtags</th>\n",
              "      <th>link</th>\n",
              "      <th>retweet</th>\n",
              "      <th>video</th>\n",
              "      <th>thumbnail</th>\n",
              "      <th>reply_to</th>\n",
              "    </tr>\n",
              "  </thead>\n",
              "  <tbody>\n",
              "    <tr>\n",
              "      <th>0</th>\n",
              "      <td>0</td>\n",
              "      <td>1349297781492441090</td>\n",
              "      <td>1349297781492441090</td>\n",
              "      <td>2021-01-13 17:10:34 WIB</td>\n",
              "      <td>2021-01-13</td>\n",
              "      <td>17:10:34</td>\n",
              "      <td>700</td>\n",
              "      <td>17128975</td>\n",
              "      <td>cnnindonesia</td>\n",
              "      <td>CNN Indonesia</td>\n",
              "      <td>...</td>\n",
              "      <td>0</td>\n",
              "      <td>1</td>\n",
              "      <td>4</td>\n",
              "      <td>[]</td>\n",
              "      <td>[]</td>\n",
              "      <td>https://twitter.com/CNNIndonesia/status/134929...</td>\n",
              "      <td>False</td>\n",
              "      <td>0</td>\n",
              "      <td>NaN</td>\n",
              "      <td>[]</td>\n",
              "    </tr>\n",
              "    <tr>\n",
              "      <th>1</th>\n",
              "      <td>1</td>\n",
              "      <td>1349297025716678663</td>\n",
              "      <td>1349297025716678663</td>\n",
              "      <td>2021-01-13 17:07:34 WIB</td>\n",
              "      <td>2021-01-13</td>\n",
              "      <td>17:07:34</td>\n",
              "      <td>700</td>\n",
              "      <td>17128975</td>\n",
              "      <td>cnnindonesia</td>\n",
              "      <td>CNN Indonesia</td>\n",
              "      <td>...</td>\n",
              "      <td>1</td>\n",
              "      <td>1</td>\n",
              "      <td>6</td>\n",
              "      <td>[]</td>\n",
              "      <td>[]</td>\n",
              "      <td>https://twitter.com/CNNIndonesia/status/134929...</td>\n",
              "      <td>False</td>\n",
              "      <td>0</td>\n",
              "      <td>NaN</td>\n",
              "      <td>[]</td>\n",
              "    </tr>\n",
              "    <tr>\n",
              "      <th>2</th>\n",
              "      <td>2</td>\n",
              "      <td>1349296269127081987</td>\n",
              "      <td>1349296269127081987</td>\n",
              "      <td>2021-01-13 17:04:33 WIB</td>\n",
              "      <td>2021-01-13</td>\n",
              "      <td>17:04:33</td>\n",
              "      <td>700</td>\n",
              "      <td>17128975</td>\n",
              "      <td>cnnindonesia</td>\n",
              "      <td>CNN Indonesia</td>\n",
              "      <td>...</td>\n",
              "      <td>7</td>\n",
              "      <td>1</td>\n",
              "      <td>9</td>\n",
              "      <td>[]</td>\n",
              "      <td>[]</td>\n",
              "      <td>https://twitter.com/CNNIndonesia/status/134929...</td>\n",
              "      <td>False</td>\n",
              "      <td>0</td>\n",
              "      <td>NaN</td>\n",
              "      <td>[]</td>\n",
              "    </tr>\n",
              "    <tr>\n",
              "      <th>3</th>\n",
              "      <td>3</td>\n",
              "      <td>1349295513451917313</td>\n",
              "      <td>1349295513451917313</td>\n",
              "      <td>2021-01-13 17:01:33 WIB</td>\n",
              "      <td>2021-01-13</td>\n",
              "      <td>17:01:33</td>\n",
              "      <td>700</td>\n",
              "      <td>17128975</td>\n",
              "      <td>cnnindonesia</td>\n",
              "      <td>CNN Indonesia</td>\n",
              "      <td>...</td>\n",
              "      <td>0</td>\n",
              "      <td>7</td>\n",
              "      <td>14</td>\n",
              "      <td>[]</td>\n",
              "      <td>[]</td>\n",
              "      <td>https://twitter.com/CNNIndonesia/status/134929...</td>\n",
              "      <td>False</td>\n",
              "      <td>0</td>\n",
              "      <td>NaN</td>\n",
              "      <td>[]</td>\n",
              "    </tr>\n",
              "    <tr>\n",
              "      <th>4</th>\n",
              "      <td>4</td>\n",
              "      <td>1349294757336346625</td>\n",
              "      <td>1349294757336346625</td>\n",
              "      <td>2021-01-13 16:58:33 WIB</td>\n",
              "      <td>2021-01-13</td>\n",
              "      <td>16:58:33</td>\n",
              "      <td>700</td>\n",
              "      <td>17128975</td>\n",
              "      <td>cnnindonesia</td>\n",
              "      <td>CNN Indonesia</td>\n",
              "      <td>...</td>\n",
              "      <td>1</td>\n",
              "      <td>2</td>\n",
              "      <td>1</td>\n",
              "      <td>[]</td>\n",
              "      <td>[]</td>\n",
              "      <td>https://twitter.com/CNNIndonesia/status/134929...</td>\n",
              "      <td>False</td>\n",
              "      <td>0</td>\n",
              "      <td>NaN</td>\n",
              "      <td>[]</td>\n",
              "    </tr>\n",
              "  </tbody>\n",
              "</table>\n",
              "<p>5 rows × 25 columns</p>\n",
              "</div>\n",
              "      <button class=\"colab-df-convert\" onclick=\"convertToInteractive('df-53a35706-c784-420a-99c2-4dfb23c8b0e3')\"\n",
              "              title=\"Convert this dataframe to an interactive table.\"\n",
              "              style=\"display:none;\">\n",
              "        \n",
              "  <svg xmlns=\"http://www.w3.org/2000/svg\" height=\"24px\"viewBox=\"0 0 24 24\"\n",
              "       width=\"24px\">\n",
              "    <path d=\"M0 0h24v24H0V0z\" fill=\"none\"/>\n",
              "    <path d=\"M18.56 5.44l.94 2.06.94-2.06 2.06-.94-2.06-.94-.94-2.06-.94 2.06-2.06.94zm-11 1L8.5 8.5l.94-2.06 2.06-.94-2.06-.94L8.5 2.5l-.94 2.06-2.06.94zm10 10l.94 2.06.94-2.06 2.06-.94-2.06-.94-.94-2.06-.94 2.06-2.06.94z\"/><path d=\"M17.41 7.96l-1.37-1.37c-.4-.4-.92-.59-1.43-.59-.52 0-1.04.2-1.43.59L10.3 9.45l-7.72 7.72c-.78.78-.78 2.05 0 2.83L4 21.41c.39.39.9.59 1.41.59.51 0 1.02-.2 1.41-.59l7.78-7.78 2.81-2.81c.8-.78.8-2.07 0-2.86zM5.41 20L4 18.59l7.72-7.72 1.47 1.35L5.41 20z\"/>\n",
              "  </svg>\n",
              "      </button>\n",
              "      \n",
              "  <style>\n",
              "    .colab-df-container {\n",
              "      display:flex;\n",
              "      flex-wrap:wrap;\n",
              "      gap: 12px;\n",
              "    }\n",
              "\n",
              "    .colab-df-convert {\n",
              "      background-color: #E8F0FE;\n",
              "      border: none;\n",
              "      border-radius: 50%;\n",
              "      cursor: pointer;\n",
              "      display: none;\n",
              "      fill: #1967D2;\n",
              "      height: 32px;\n",
              "      padding: 0 0 0 0;\n",
              "      width: 32px;\n",
              "    }\n",
              "\n",
              "    .colab-df-convert:hover {\n",
              "      background-color: #E2EBFA;\n",
              "      box-shadow: 0px 1px 2px rgba(60, 64, 67, 0.3), 0px 1px 3px 1px rgba(60, 64, 67, 0.15);\n",
              "      fill: #174EA6;\n",
              "    }\n",
              "\n",
              "    [theme=dark] .colab-df-convert {\n",
              "      background-color: #3B4455;\n",
              "      fill: #D2E3FC;\n",
              "    }\n",
              "\n",
              "    [theme=dark] .colab-df-convert:hover {\n",
              "      background-color: #434B5C;\n",
              "      box-shadow: 0px 1px 3px 1px rgba(0, 0, 0, 0.15);\n",
              "      filter: drop-shadow(0px 1px 2px rgba(0, 0, 0, 0.3));\n",
              "      fill: #FFFFFF;\n",
              "    }\n",
              "  </style>\n",
              "\n",
              "      <script>\n",
              "        const buttonEl =\n",
              "          document.querySelector('#df-53a35706-c784-420a-99c2-4dfb23c8b0e3 button.colab-df-convert');\n",
              "        buttonEl.style.display =\n",
              "          google.colab.kernel.accessAllowed ? 'block' : 'none';\n",
              "\n",
              "        async function convertToInteractive(key) {\n",
              "          const element = document.querySelector('#df-53a35706-c784-420a-99c2-4dfb23c8b0e3');\n",
              "          const dataTable =\n",
              "            await google.colab.kernel.invokeFunction('convertToInteractive',\n",
              "                                                     [key], {});\n",
              "          if (!dataTable) return;\n",
              "\n",
              "          const docLinkHtml = 'Like what you see? Visit the ' +\n",
              "            '<a target=\"_blank\" href=https://colab.research.google.com/notebooks/data_table.ipynb>data table notebook</a>'\n",
              "            + ' to learn more about interactive tables.';\n",
              "          element.innerHTML = '';\n",
              "          dataTable['output_type'] = 'display_data';\n",
              "          await google.colab.output.renderOutput(dataTable, element);\n",
              "          const docLink = document.createElement('div');\n",
              "          docLink.innerHTML = docLinkHtml;\n",
              "          element.appendChild(docLink);\n",
              "        }\n",
              "      </script>\n",
              "    </div>\n",
              "  </div>\n",
              "  "
            ],
            "text/plain": [
              "   Unnamed: 0                   id      conversation_id  \\\n",
              "0           0  1349297781492441090  1349297781492441090   \n",
              "1           1  1349297025716678663  1349297025716678663   \n",
              "2           2  1349296269127081987  1349296269127081987   \n",
              "3           3  1349295513451917313  1349295513451917313   \n",
              "4           4  1349294757336346625  1349294757336346625   \n",
              "\n",
              "                created_at        date      time  timezone   user_id  \\\n",
              "0  2021-01-13 17:10:34 WIB  2021-01-13  17:10:34       700  17128975   \n",
              "1  2021-01-13 17:07:34 WIB  2021-01-13  17:07:34       700  17128975   \n",
              "2  2021-01-13 17:04:33 WIB  2021-01-13  17:04:33       700  17128975   \n",
              "3  2021-01-13 17:01:33 WIB  2021-01-13  17:01:33       700  17128975   \n",
              "4  2021-01-13 16:58:33 WIB  2021-01-13  16:58:33       700  17128975   \n",
              "\n",
              "       username           name  ... replies_count retweets_count likes_count  \\\n",
              "0  cnnindonesia  CNN Indonesia  ...             0              1           4   \n",
              "1  cnnindonesia  CNN Indonesia  ...             1              1           6   \n",
              "2  cnnindonesia  CNN Indonesia  ...             7              1           9   \n",
              "3  cnnindonesia  CNN Indonesia  ...             0              7          14   \n",
              "4  cnnindonesia  CNN Indonesia  ...             1              2           1   \n",
              "\n",
              "  hashtags cashtags                                               link  \\\n",
              "0       []       []  https://twitter.com/CNNIndonesia/status/134929...   \n",
              "1       []       []  https://twitter.com/CNNIndonesia/status/134929...   \n",
              "2       []       []  https://twitter.com/CNNIndonesia/status/134929...   \n",
              "3       []       []  https://twitter.com/CNNIndonesia/status/134929...   \n",
              "4       []       []  https://twitter.com/CNNIndonesia/status/134929...   \n",
              "\n",
              "   retweet  video thumbnail reply_to  \n",
              "0    False      0       NaN       []  \n",
              "1    False      0       NaN       []  \n",
              "2    False      0       NaN       []  \n",
              "3    False      0       NaN       []  \n",
              "4    False      0       NaN       []  \n",
              "\n",
              "[5 rows x 25 columns]"
            ]
          },
          "execution_count": 6,
          "metadata": {},
          "output_type": "execute_result"
        }
      ],
      "source": [
        "indonesia_news_dataset = pd.concat([cnn_dataset, detikcom_dataset, idntimes_dataset, kompascom_dataset, kumparan_dataset, liputan6_dataset, okezonenews_dataset])\n",
        "indonesia_news_dataset.head()"
      ]
    },
    {
      "cell_type": "markdown",
      "metadata": {
        "id": "jQbyeCsDiafp"
      },
      "source": [
        "### **Informasi Dataset**"
      ]
    },
    {
      "cell_type": "code",
      "execution_count": null,
      "metadata": {
        "colab": {
          "base_uri": "https://localhost:8080/"
        },
        "id": "LlWl7JyLicUL",
        "outputId": "77f2f78d-033f-40ab-ad30-10a120aff873"
      },
      "outputs": [
        {
          "name": "stdout",
          "output_type": "stream",
          "text": [
            "<class 'pandas.core.frame.DataFrame'>\n",
            "Int64Index: 891221 entries, 0 to 136114\n",
            "Data columns (total 25 columns):\n",
            " #   Column           Non-Null Count   Dtype \n",
            "---  ------           --------------   ----- \n",
            " 0   Unnamed: 0       891221 non-null  int64 \n",
            " 1   id               891221 non-null  int64 \n",
            " 2   conversation_id  891221 non-null  int64 \n",
            " 3   created_at       891221 non-null  object\n",
            " 4   date             891221 non-null  object\n",
            " 5   time             891221 non-null  object\n",
            " 6   timezone         891221 non-null  int64 \n",
            " 7   user_id          891221 non-null  int64 \n",
            " 8   username         891221 non-null  object\n",
            " 9   name             891221 non-null  object\n",
            " 10  tweet            891221 non-null  object\n",
            " 11  language         891221 non-null  object\n",
            " 12  mentions         891221 non-null  object\n",
            " 13  urls             891221 non-null  object\n",
            " 14  photos           891221 non-null  object\n",
            " 15  replies_count    891221 non-null  int64 \n",
            " 16  retweets_count   891221 non-null  int64 \n",
            " 17  likes_count      891221 non-null  int64 \n",
            " 18  hashtags         891221 non-null  object\n",
            " 19  cashtags         891221 non-null  object\n",
            " 20  link             891221 non-null  object\n",
            " 21  retweet          891221 non-null  bool  \n",
            " 22  video            891221 non-null  int64 \n",
            " 23  thumbnail        35836 non-null   object\n",
            " 24  reply_to         891221 non-null  object\n",
            "dtypes: bool(1), int64(9), object(15)\n",
            "memory usage: 170.8+ MB\n"
          ]
        }
      ],
      "source": [
        "indonesia_news_dataset.info()"
      ]
    },
    {
      "cell_type": "markdown",
      "metadata": {
        "id": "ECRJy1sCizUa"
      },
      "source": [
        "### **Drop Unused Columns**"
      ]
    },
    {
      "cell_type": "code",
      "execution_count": null,
      "metadata": {
        "colab": {
          "base_uri": "https://localhost:8080/",
          "height": 206
        },
        "id": "3Oesg6J7jFsA",
        "outputId": "b72ea9f6-c7d8-4190-c5c7-0c9ba500bfc6"
      },
      "outputs": [
        {
          "data": {
            "text/html": [
              "\n",
              "  <div id=\"df-45b014f7-7204-43a9-8ae3-dfb7f55de920\">\n",
              "    <div class=\"colab-df-container\">\n",
              "      <div>\n",
              "<style scoped>\n",
              "    .dataframe tbody tr th:only-of-type {\n",
              "        vertical-align: middle;\n",
              "    }\n",
              "\n",
              "    .dataframe tbody tr th {\n",
              "        vertical-align: top;\n",
              "    }\n",
              "\n",
              "    .dataframe thead th {\n",
              "        text-align: right;\n",
              "    }\n",
              "</style>\n",
              "<table border=\"1\" class=\"dataframe\">\n",
              "  <thead>\n",
              "    <tr style=\"text-align: right;\">\n",
              "      <th></th>\n",
              "      <th>date</th>\n",
              "      <th>time</th>\n",
              "      <th>name</th>\n",
              "      <th>language</th>\n",
              "      <th>mentions</th>\n",
              "      <th>replies_count</th>\n",
              "      <th>retweets_count</th>\n",
              "      <th>likes_count</th>\n",
              "      <th>hashtags</th>\n",
              "      <th>video</th>\n",
              "    </tr>\n",
              "  </thead>\n",
              "  <tbody>\n",
              "    <tr>\n",
              "      <th>0</th>\n",
              "      <td>2021-01-13</td>\n",
              "      <td>17:10:34</td>\n",
              "      <td>CNN Indonesia</td>\n",
              "      <td>in</td>\n",
              "      <td>[]</td>\n",
              "      <td>0</td>\n",
              "      <td>1</td>\n",
              "      <td>4</td>\n",
              "      <td>[]</td>\n",
              "      <td>0</td>\n",
              "    </tr>\n",
              "    <tr>\n",
              "      <th>1</th>\n",
              "      <td>2021-01-13</td>\n",
              "      <td>17:07:34</td>\n",
              "      <td>CNN Indonesia</td>\n",
              "      <td>in</td>\n",
              "      <td>[]</td>\n",
              "      <td>1</td>\n",
              "      <td>1</td>\n",
              "      <td>6</td>\n",
              "      <td>[]</td>\n",
              "      <td>0</td>\n",
              "    </tr>\n",
              "    <tr>\n",
              "      <th>2</th>\n",
              "      <td>2021-01-13</td>\n",
              "      <td>17:04:33</td>\n",
              "      <td>CNN Indonesia</td>\n",
              "      <td>in</td>\n",
              "      <td>[]</td>\n",
              "      <td>7</td>\n",
              "      <td>1</td>\n",
              "      <td>9</td>\n",
              "      <td>[]</td>\n",
              "      <td>0</td>\n",
              "    </tr>\n",
              "    <tr>\n",
              "      <th>3</th>\n",
              "      <td>2021-01-13</td>\n",
              "      <td>17:01:33</td>\n",
              "      <td>CNN Indonesia</td>\n",
              "      <td>in</td>\n",
              "      <td>[]</td>\n",
              "      <td>0</td>\n",
              "      <td>7</td>\n",
              "      <td>14</td>\n",
              "      <td>[]</td>\n",
              "      <td>0</td>\n",
              "    </tr>\n",
              "    <tr>\n",
              "      <th>4</th>\n",
              "      <td>2021-01-13</td>\n",
              "      <td>16:58:33</td>\n",
              "      <td>CNN Indonesia</td>\n",
              "      <td>in</td>\n",
              "      <td>[]</td>\n",
              "      <td>1</td>\n",
              "      <td>2</td>\n",
              "      <td>1</td>\n",
              "      <td>[]</td>\n",
              "      <td>0</td>\n",
              "    </tr>\n",
              "  </tbody>\n",
              "</table>\n",
              "</div>\n",
              "      <button class=\"colab-df-convert\" onclick=\"convertToInteractive('df-45b014f7-7204-43a9-8ae3-dfb7f55de920')\"\n",
              "              title=\"Convert this dataframe to an interactive table.\"\n",
              "              style=\"display:none;\">\n",
              "        \n",
              "  <svg xmlns=\"http://www.w3.org/2000/svg\" height=\"24px\"viewBox=\"0 0 24 24\"\n",
              "       width=\"24px\">\n",
              "    <path d=\"M0 0h24v24H0V0z\" fill=\"none\"/>\n",
              "    <path d=\"M18.56 5.44l.94 2.06.94-2.06 2.06-.94-2.06-.94-.94-2.06-.94 2.06-2.06.94zm-11 1L8.5 8.5l.94-2.06 2.06-.94-2.06-.94L8.5 2.5l-.94 2.06-2.06.94zm10 10l.94 2.06.94-2.06 2.06-.94-2.06-.94-.94-2.06-.94 2.06-2.06.94z\"/><path d=\"M17.41 7.96l-1.37-1.37c-.4-.4-.92-.59-1.43-.59-.52 0-1.04.2-1.43.59L10.3 9.45l-7.72 7.72c-.78.78-.78 2.05 0 2.83L4 21.41c.39.39.9.59 1.41.59.51 0 1.02-.2 1.41-.59l7.78-7.78 2.81-2.81c.8-.78.8-2.07 0-2.86zM5.41 20L4 18.59l7.72-7.72 1.47 1.35L5.41 20z\"/>\n",
              "  </svg>\n",
              "      </button>\n",
              "      \n",
              "  <style>\n",
              "    .colab-df-container {\n",
              "      display:flex;\n",
              "      flex-wrap:wrap;\n",
              "      gap: 12px;\n",
              "    }\n",
              "\n",
              "    .colab-df-convert {\n",
              "      background-color: #E8F0FE;\n",
              "      border: none;\n",
              "      border-radius: 50%;\n",
              "      cursor: pointer;\n",
              "      display: none;\n",
              "      fill: #1967D2;\n",
              "      height: 32px;\n",
              "      padding: 0 0 0 0;\n",
              "      width: 32px;\n",
              "    }\n",
              "\n",
              "    .colab-df-convert:hover {\n",
              "      background-color: #E2EBFA;\n",
              "      box-shadow: 0px 1px 2px rgba(60, 64, 67, 0.3), 0px 1px 3px 1px rgba(60, 64, 67, 0.15);\n",
              "      fill: #174EA6;\n",
              "    }\n",
              "\n",
              "    [theme=dark] .colab-df-convert {\n",
              "      background-color: #3B4455;\n",
              "      fill: #D2E3FC;\n",
              "    }\n",
              "\n",
              "    [theme=dark] .colab-df-convert:hover {\n",
              "      background-color: #434B5C;\n",
              "      box-shadow: 0px 1px 3px 1px rgba(0, 0, 0, 0.15);\n",
              "      filter: drop-shadow(0px 1px 2px rgba(0, 0, 0, 0.3));\n",
              "      fill: #FFFFFF;\n",
              "    }\n",
              "  </style>\n",
              "\n",
              "      <script>\n",
              "        const buttonEl =\n",
              "          document.querySelector('#df-45b014f7-7204-43a9-8ae3-dfb7f55de920 button.colab-df-convert');\n",
              "        buttonEl.style.display =\n",
              "          google.colab.kernel.accessAllowed ? 'block' : 'none';\n",
              "\n",
              "        async function convertToInteractive(key) {\n",
              "          const element = document.querySelector('#df-45b014f7-7204-43a9-8ae3-dfb7f55de920');\n",
              "          const dataTable =\n",
              "            await google.colab.kernel.invokeFunction('convertToInteractive',\n",
              "                                                     [key], {});\n",
              "          if (!dataTable) return;\n",
              "\n",
              "          const docLinkHtml = 'Like what you see? Visit the ' +\n",
              "            '<a target=\"_blank\" href=https://colab.research.google.com/notebooks/data_table.ipynb>data table notebook</a>'\n",
              "            + ' to learn more about interactive tables.';\n",
              "          element.innerHTML = '';\n",
              "          dataTable['output_type'] = 'display_data';\n",
              "          await google.colab.output.renderOutput(dataTable, element);\n",
              "          const docLink = document.createElement('div');\n",
              "          docLink.innerHTML = docLinkHtml;\n",
              "          element.appendChild(docLink);\n",
              "        }\n",
              "      </script>\n",
              "    </div>\n",
              "  </div>\n",
              "  "
            ],
            "text/plain": [
              "         date      time           name language mentions  replies_count  \\\n",
              "0  2021-01-13  17:10:34  CNN Indonesia       in       []              0   \n",
              "1  2021-01-13  17:07:34  CNN Indonesia       in       []              1   \n",
              "2  2021-01-13  17:04:33  CNN Indonesia       in       []              7   \n",
              "3  2021-01-13  17:01:33  CNN Indonesia       in       []              0   \n",
              "4  2021-01-13  16:58:33  CNN Indonesia       in       []              1   \n",
              "\n",
              "   retweets_count  likes_count hashtags  video  \n",
              "0               1            4       []      0  \n",
              "1               1            6       []      0  \n",
              "2               1            9       []      0  \n",
              "3               7           14       []      0  \n",
              "4               2            1       []      0  "
            ]
          },
          "execution_count": 8,
          "metadata": {},
          "output_type": "execute_result"
        }
      ],
      "source": [
        "indonesia_news_dataset.drop(['Unnamed: 0',\n",
        "                             'id',\n",
        "                             'conversation_id',\n",
        "                             'created_at',\n",
        "                             'timezone',\n",
        "                             'user_id',\n",
        "                             'username',\n",
        "                             'tweet',\n",
        "                             'urls',\n",
        "                             'photos',\n",
        "                             'cashtags',\n",
        "                             'link',\n",
        "                             'retweet',\n",
        "                             'thumbnail',\n",
        "                             'reply_to'],\n",
        "                            axis=1,\n",
        "                            inplace=True)\n",
        "indonesia_news_dataset.head()\n"
      ]
    },
    {
      "cell_type": "markdown",
      "metadata": {
        "id": "KvXC-ztOeE62"
      },
      "source": [
        "untuk kolom diatas menghapus id,conversation_id itu merupakan nilai yang tidak bisa dianalisis karena hanya merupakan id dan antara conversation_id dan id memiliki nilai yang sama. urls,photos,link dihapus karena hanya berisi link yang tidak dapat ditarik kesimpulannya. cashtag dihapus karena tidak memiliki nilai/values.sedangkan untuk thumbnail dihapus karena memiliki banyak data yang bersifat null. dan untuk retweets hanya memiliki satu nilai yaitu false"
      ]
    },
    {
      "cell_type": "markdown",
      "metadata": {
        "id": "_XO1aydQ-jwa"
      },
      "source": [
        "### **[Palet Warna](https://assets-global.website-files.com/620d42e86cb8ec4d0839e59d/620d42e96cb8ec4eda39f743_dUfQX7mnoDJATqLQSu8A3GtFEEWmQW4XEIthAcKhd_pRETmxqK_zfE6K1VtgRP-drDr7JdD33ye62gjf-D477CKDFJSKasbILdHjJiG_7GD9zRPw8zcJJIOIyCyMRepVOdJ4rvjj.png)**"
      ]
    },
    {
      "cell_type": "code",
      "execution_count": 8,
      "metadata": {
        "id": "dEuQFQNJ-okq"
      },
      "outputs": [],
      "source": [
        "first_color = '#E60049'\n",
        "second_color = '#0BB4FF'\n",
        "third_color = '#50E991'\n",
        "fourth_color = '#E6D800'\n",
        "fifth_color = '#9B19F5'\n",
        "sixth_color = '#FFA300'\n",
        "seventh_color = '#DC0AB4'\n",
        "eighth_color = '#B3D4FF'\n",
        "ninth_color = '#00BFA0'"
      ]
    },
    {
      "cell_type": "markdown",
      "metadata": {
        "id": "30qTyh13kfrO"
      },
      "source": [
        "### **Rata-Rata Jumlah Berita Perhari**"
      ]
    },
    {
      "cell_type": "code",
      "execution_count": 25,
      "metadata": {
        "colab": {
          "base_uri": "https://localhost:8080/",
          "height": 621
        },
        "id": "cJ7JpCffO_Kt",
        "outputId": "3987e561-997f-49b4-e2d8-34440843535a"
      },
      "outputs": [
        {
          "data": {
            "image/png": "[encoded data removed]",
            "text/plain": [
              "<Figure size 720x720 with 1 Axes>"
            ]
          },
          "metadata": {
            "needs_background": "light"
          },
          "output_type": "display_data"
        }
      ],
      "source": [
        "media_berita = indonesia_news_dataset['name'].unique()\n",
        "rata_rata_jumlah_berita = [cnn_dataset['date'].value_counts().sum() // len(cnn_dataset['date'].value_counts()),\n",
        "                           detikcom_dataset['date'].value_counts().sum() // len(detikcom_dataset['date'].value_counts()),\n",
        "                           idntimes_dataset['date'].value_counts().sum() // len(idntimes_dataset['date'].value_counts()),\n",
        "                           kompascom_dataset['date'].value_counts().sum() // len(kompascom_dataset['date'].value_counts()),\n",
        "                           kumparan_dataset['date'].value_counts().sum() // len(kumparan_dataset['date'].value_counts()),\n",
        "                           liputan6_dataset['date'].value_counts().sum() // len(liputan6_dataset['date'].value_counts()),\n",
        "                           okezonenews_dataset['date'].value_counts().sum() // len(okezonenews_dataset['date'].value_counts())]\n",
        "\n",
        "plt.figure(figsize=(10,10))\n",
        "plt.bar(media_berita,\n",
        "        rata_rata_jumlah_berita,\n",
        "        color=[first_color,\n",
        "               second_color,\n",
        "               third_color,\n",
        "               fourth_color,\n",
        "               fifth_color,\n",
        "               sixth_color,\n",
        "               seventh_color])\n",
        "plt.title(\"Rata-Rata Jumlah Berita Perhari\", fontweight='bold')\n",
        "plt.xlabel(\"Media Berita\")\n",
        "plt.ylabel(\"Rata-Rata Jumlah Berita\")\n",
        "\n",
        "for index, value in enumerate(rata_rata_jumlah_berita):\n",
        "    plt.text(index - .15, value + 10, str(value))\n",
        "\n",
        "plt.show()"
      ]
    },
    {
      "cell_type": "markdown",
      "metadata": {
        "id": "bFDFaisnWXyk"
      },
      "source": [
        "Dari analisis diatas, bisa disimpulkan kompas.com memiliki rata-rata hariannya untuk berita diupload sebanyak 727 berita. dan untuk liputan6 menjadi media berita yang kurang mengeluarkan berita paling sedikit perharinya dengan rata-ratanya hanya 256 berita."
      ]
    },
    {
      "cell_type": "markdown",
      "metadata": {
        "id": "mJe6dT6yMYEB"
      },
      "source": [
        "### **Bahasa yang Digunakan pada Berita**"
      ]
    },
    {
      "cell_type": "code",
      "execution_count": 31,
      "metadata": {
        "colab": {
          "base_uri": "https://localhost:8080/",
          "height": 913
        },
        "id": "p_pFPgMRMcxD",
        "outputId": "3060151d-8b27-43ba-800d-8393856d53f1"
      },
      "outputs": [
        {
          "data": {
            "image/png": "[encoded data removed]",
            "text/plain": [
              "<Figure size 1440x1080 with 1 Axes>"
            ]
          },
          "metadata": {
            "needs_background": "light"
          },
          "output_type": "display_data"
        }
      ],
      "source": [
        "plt.figure(figsize=(20,15))\n",
        "plt.bar(indonesia_news_dataset['language'].unique(),\n",
        "        indonesia_news_dataset['language'].value_counts(),\n",
        "        color='red')\n",
        "plt.title(\"Bahasa yang Digunakan pada Berita\", fontweight='bold')\n",
        "plt.xlabel(\"Media Berita\")\n",
        "plt.ylabel(\"Jumlah Berita\")\n",
        "\n",
        "plt.show()"
      ]
    },
    {
      "cell_type": "markdown",
      "metadata": {
        "id": "6l5StpekZG8J"
      },
      "source": [
        "Grafik menunjukkan bahwa bahasa yang paling banyak digunakan untuk berita adalah bahasa Indonesia, diikuti dengan bahasa Inggris kemudian bahasa Spanyol."
      ]
    },
    {
      "cell_type": "markdown",
      "metadata": {
        "id": "dyQNarrZSfH2"
      },
      "source": [
        "### **Jumlah Retweet Berita**"
      ]
    },
    {
      "cell_type": "code",
      "execution_count": 33,
      "metadata": {
        "colab": {
          "base_uri": "https://localhost:8080/",
          "height": 621
        },
        "id": "8A91TQf6SgbO",
        "outputId": "56412773-8c0b-45d6-b53c-21d9551e5a1c"
      },
      "outputs": [
        {
          "data": {
            "image/png": "[encoded data removed]",
            "text/plain": [
              "<Figure size 720x720 with 1 Axes>"
            ]
          },
          "metadata": {
            "needs_background": "light"
          },
          "output_type": "display_data"
        }
      ],
      "source": [
        "plt.figure(figsize=(10,10))\n",
        "plt.bar(media_berita,\n",
        "        [cnn_dataset['retweets_count'].sum(),\n",
        "         detikcom_dataset['retweets_count'].sum(),\n",
        "         idntimes_dataset['retweets_count'].sum(),\n",
        "         kompascom_dataset['retweets_count'].sum(),\n",
        "         kumparan_dataset['retweets_count'].sum(),\n",
        "         liputan6_dataset['retweets_count'].sum(),\n",
        "         okezonenews_dataset['retweets_count'].sum()],\n",
        "        color=[first_color,\n",
        "               second_color,\n",
        "               third_color,\n",
        "               fourth_color,\n",
        "               fifth_color,\n",
        "               sixth_color,\n",
        "               seventh_color])\n",
        "plt.title(\"Jumlah Retweet Berita\", fontweight='bold')\n",
        "plt.xlabel(\"Media Berita\")\n",
        "plt.ylabel(\"Jumlah Retweet\")\n",
        "\n",
        "plt.show()"
      ]
    },
    {
      "cell_type": "markdown",
      "metadata": {
        "id": "kCJ28g7rZiex"
      },
      "source": [
        "Dari grafik diatas, dapat disimpulkan bahwa berita yang sering diretweet oleh para pembaca berita adalah dari CNN Indonesia. Sedangkan yang paling sedikit adalah Okezone."
      ]
    },
    {
      "cell_type": "markdown",
      "metadata": {
        "id": "600KRafsU38l"
      },
      "source": [
        "### **Jumlah Like Berita**"
      ]
    },
    {
      "cell_type": "code",
      "execution_count": 38,
      "metadata": {
        "colab": {
          "base_uri": "https://localhost:8080/",
          "height": 621
        },
        "id": "8611PZ7JU_0I",
        "outputId": "3f5d7b99-b8eb-4de3-9be6-b03b20762089"
      },
      "outputs": [
        {
          "data": {
            "image/png": "[encoded data removed]",
            "text/plain": [
              "<Figure size 720x720 with 1 Axes>"
            ]
          },
          "metadata": {
            "needs_background": "light"
          },
          "output_type": "display_data"
        }
      ],
      "source": [
        "plt.figure(figsize=(10,10))\n",
        "plt.bar(media_berita,\n",
        "        [cnn_dataset['likes_count'].sum(),\n",
        "         detikcom_dataset['likes_count'].sum(),\n",
        "         idntimes_dataset['likes_count'].sum(),\n",
        "         kompascom_dataset['likes_count'].sum(),\n",
        "         kumparan_dataset['likes_count'].sum(),\n",
        "         liputan6_dataset['likes_count'].sum(),\n",
        "         okezonenews_dataset['likes_count'].sum()],\n",
        "        color=[first_color,\n",
        "               second_color,\n",
        "               third_color,\n",
        "               fourth_color,\n",
        "               fifth_color,\n",
        "               sixth_color,\n",
        "               seventh_color])\n",
        "plt.title(\"Jumlah Like Berita\", fontweight='bold')\n",
        "plt.xlabel(\"Media Berita\")\n",
        "plt.ylabel(\"Jumlah Like\")\n",
        "\n",
        "plt.show()"
      ]
    },
    {
      "cell_type": "markdown",
      "metadata": {
        "id": "z-Zl3ceQZyqp"
      },
      "source": [
        "Dari grafik diatas, dapat disimpulkan bahwa berita yang banyak di like oleh para pembaca berita adalah dari CNN Indonesia. Sedangkan yang paling sedikit adalah Okezone."
      ]
    },
    {
      "cell_type": "markdown",
      "metadata": {
        "id": "de-0UF3GVIVb"
      },
      "source": [
        "### **Jumlah Reply Berita**"
      ]
    },
    {
      "cell_type": "code",
      "execution_count": 37,
      "metadata": {
        "colab": {
          "base_uri": "https://localhost:8080/",
          "height": 621
        },
        "id": "EaZQML8EWHrS",
        "outputId": "7b11bd11-c4ec-4522-843c-24497341ec5d"
      },
      "outputs": [
        {
          "data": {
            "image/png": "[encoded data removed]",
            "text/plain": [
              "<Figure size 720x720 with 1 Axes>"
            ]
          },
          "metadata": {
            "needs_background": "light"
          },
          "output_type": "display_data"
        }
      ],
      "source": [
        "plt.figure(figsize=(10,10))\n",
        "plt.bar(media_berita,\n",
        "        [cnn_dataset['replies_count'].sum(),\n",
        "         detikcom_dataset['replies_count'].sum(),\n",
        "         idntimes_dataset['replies_count'].sum(),\n",
        "         kompascom_dataset['replies_count'].sum(),\n",
        "         kumparan_dataset['replies_count'].sum(),\n",
        "         liputan6_dataset['replies_count'].sum(),\n",
        "         okezonenews_dataset['replies_count'].sum()],\n",
        "        color=[first_color,\n",
        "               second_color,\n",
        "               third_color,\n",
        "               fourth_color,\n",
        "               fifth_color,\n",
        "               sixth_color,\n",
        "               seventh_color])\n",
        "plt.title(\"Jumlah Reply Berita\", fontweight='bold')\n",
        "plt.xlabel(\"Media Berita\")\n",
        "plt.ylabel(\"Jumlah Reply\")\n",
        "\n",
        "plt.show()"
      ]
    },
    {
      "cell_type": "markdown",
      "metadata": {
        "id": "KwXDLzn6Z2T7"
      },
      "source": [
        "kesimpulan dari replies count. paling banyak dari detik, paling dikit dari okzone."
      ]
    },
    {
      "cell_type": "markdown",
      "metadata": {
        "id": "tO07aw49Z8L_"
      },
      "source": [
        "Berdasarkan grafik jumlah retweet berita, jumlah like berita, dan jumlah reply berita, dapat disimpulkan bahwa cnn sangat mendominasi unttuk retweet dan like pada artikel-artikel beritanya. Sedangkan detik mendominasi pada reply count pada artikel-artikel beritanya. Sedangkan okezone selalu terbawah dari segi like, retweet, dan replies dari kompetitornya."
      ]
    },
    {
      "cell_type": "markdown",
      "metadata": {
        "id": "qJgxzTNxeU1_"
      },
      "source": [
        "### **Video**\n",
        "video merupakan salah satu unsur yang sangat penting pada masa sekarang. Generasi muda sekarang lebih suka menonton video daripada membaca. Jadi dalam bagian ini kami akan menganalisis apakah sebuah stasiun itu ada menginclude kan video atau tidak, dengan parameter 0 sebagai false (tidak ada video) dan 1 sebagai true (ada video), supaya berita dapat menjangkau semua kalangan."
      ]
    },
    {
      "cell_type": "code",
      "execution_count": 40,
      "metadata": {
        "colab": {
          "base_uri": "https://localhost:8080/"
        },
        "id": "gD0kclmMeWQr",
        "outputId": "a7995e0a-0ce9-4a85-ff6a-3b4ea84481a8"
      },
      "outputs": [
        {
          "data": {
            "text/plain": [
              "0    92493\n",
              "1     7954\n",
              "Name: video, dtype: int64"
            ]
          },
          "execution_count": 40,
          "metadata": {},
          "output_type": "execute_result"
        }
      ],
      "source": [
        "cnn_dataset['video'].value_counts()"
      ]
    },
    {
      "cell_type": "code",
      "execution_count": 41,
      "metadata": {
        "colab": {
          "base_uri": "https://localhost:8080/"
        },
        "id": "wozjFEs6egAg",
        "outputId": "a50715ea-f1fd-42ac-84ff-e242984f0131"
      },
      "outputs": [
        {
          "data": {
            "text/plain": [
              "0    162560\n",
              "1      3909\n",
              "Name: video, dtype: int64"
            ]
          },
          "execution_count": 41,
          "metadata": {},
          "output_type": "execute_result"
        }
      ],
      "source": [
        "detikcom_dataset['video'].value_counts()"
      ]
    },
    {
      "cell_type": "code",
      "execution_count": 42,
      "metadata": {
        "colab": {
          "base_uri": "https://localhost:8080/"
        },
        "id": "MIPepRnMeg4I",
        "outputId": "8cfa875b-48ab-4bbb-db6e-7eef157467ec"
      },
      "outputs": [
        {
          "data": {
            "text/plain": [
              "0    165719\n",
              "1     12242\n",
              "Name: video, dtype: int64"
            ]
          },
          "execution_count": 42,
          "metadata": {},
          "output_type": "execute_result"
        }
      ],
      "source": [
        "idntimes_dataset['video'].value_counts()"
      ]
    },
    {
      "cell_type": "code",
      "execution_count": 43,
      "metadata": {
        "colab": {
          "base_uri": "https://localhost:8080/"
        },
        "id": "DM8zwhefehra",
        "outputId": "cc04bf74-6221-4747-9452-dbe51385c760"
      },
      "outputs": [
        {
          "data": {
            "text/plain": [
              "0    78478\n",
              "1     1522\n",
              "Name: video, dtype: int64"
            ]
          },
          "execution_count": 43,
          "metadata": {},
          "output_type": "execute_result"
        }
      ],
      "source": [
        "kompascom_dataset['video'].value_counts()"
      ]
    },
    {
      "cell_type": "code",
      "execution_count": 44,
      "metadata": {
        "colab": {
          "base_uri": "https://localhost:8080/"
        },
        "id": "U_VFtIJ-eiga",
        "outputId": "249e3486-f37d-47e4-8bcc-d43b8c35fadd"
      },
      "outputs": [
        {
          "data": {
            "text/plain": [
              "0    126603\n",
              "1      6497\n",
              "Name: video, dtype: int64"
            ]
          },
          "execution_count": 44,
          "metadata": {},
          "output_type": "execute_result"
        }
      ],
      "source": [
        "kumparan_dataset['video'].value_counts()"
      ]
    },
    {
      "cell_type": "code",
      "execution_count": 45,
      "metadata": {
        "colab": {
          "base_uri": "https://localhost:8080/"
        },
        "id": "ajBehqUaejfJ",
        "outputId": "afacf64e-ee81-442d-b291-919bd4598cbb"
      },
      "outputs": [
        {
          "data": {
            "text/plain": [
              "0    94422\n",
              "1     2707\n",
              "Name: video, dtype: int64"
            ]
          },
          "execution_count": 45,
          "metadata": {},
          "output_type": "execute_result"
        }
      ],
      "source": [
        "liputan6_dataset['video'].value_counts()"
      ]
    },
    {
      "cell_type": "code",
      "execution_count": 46,
      "metadata": {
        "colab": {
          "base_uri": "https://localhost:8080/"
        },
        "id": "UcreKyr9ekfK",
        "outputId": "abc2a7e7-7393-4286-c72b-692a22175636"
      },
      "outputs": [
        {
          "data": {
            "text/plain": [
              "0    135110\n",
              "1      1005\n",
              "Name: video, dtype: int64"
            ]
          },
          "execution_count": 46,
          "metadata": {},
          "output_type": "execute_result"
        }
      ],
      "source": [
        "okezonenews_dataset['video'].value_counts()"
      ]
    },
    {
      "cell_type": "markdown",
      "metadata": {
        "id": "FYbMlOZgepnn"
      },
      "source": [
        "dengan melihat hasil penjabaran diatas, maka dapat ditarik kesimpulan bahwa perusahaan media berita yang paling sedikit menggunakan video untuk berita-beritanya adalah okezonenews. Sedangkan yang paling banyak menggunakan video untuk berita-beritanya adalah IDN Times."
      ]
    },
    {
      "cell_type": "markdown",
      "metadata": {
        "id": "-RVgzWeWesNF"
      },
      "source": [
        "### **Hashtag**"
      ]
    },
    {
      "cell_type": "code",
      "execution_count": 47,
      "metadata": {
        "colab": {
          "base_uri": "https://localhost:8080/"
        },
        "id": "qVtwaAfseuU2",
        "outputId": "1a0160d1-b9c1-46a2-f453-1c5e37e5e456"
      },
      "outputs": [
        {
          "data": {
            "text/plain": [
              "[]                                          89819\n",
              "['cnnindonesia']                             3557\n",
              "['dataterbarucorona', 'cnnindonesia']         702\n",
              "['pilkada2020']                               484\n",
              "['detiknetwork']                              466\n",
              "                                            ...  \n",
              "['cnnindonesia', 'sigapmembangunnegeri']        1\n",
              "['covid19', 'viruscorona']                      1\n",
              "['edukasikeuangan']                             1\n",
              "['haornas2020', 'haornas2020']                  1\n",
              "['longform', 'cnnindonesia']                    1\n",
              "Name: hashtags, Length: 901, dtype: int64"
            ]
          },
          "execution_count": 47,
          "metadata": {},
          "output_type": "execute_result"
        }
      ],
      "source": [
        "cnn_dataset['hashtags'].value_counts()"
      ]
    },
    {
      "cell_type": "markdown",
      "metadata": {
        "id": "jGH8C3oPezIK"
      },
      "source": [
        "pada artikel-artikel beritanya, cnn banyak yang tidak menggunakan hashtag. Ini sangat berpengaruh pada pencarian berita tersebut, karena salah satu pengaruh hashtag itu adalah memudahkan pengguna untuk mencari postingan berita tersebut."
      ]
    },
    {
      "cell_type": "code",
      "execution_count": 48,
      "metadata": {
        "colab": {
          "base_uri": "https://localhost:8080/"
        },
        "id": "hBcKBhmBew6h",
        "outputId": "d1be306f-5ba7-4884-83f2-ee41e3ab87d5"
      },
      "outputs": [
        {
          "data": {
            "text/plain": [
              "[]                                      68020\n",
              "['viruscorona']                          2048\n",
              "['viral']                                1411\n",
              "['foto']                                  780\n",
              "['coronaupdate']                          474\n",
              "                                        ...  \n",
              "['foto', 'belajardaring', 'sekolah']        1\n",
              "['pesawat', 'madiun']                       1\n",
              "['vernitasyabilla', 'prostitusi']           1\n",
              "['ojol', 'pencurian']                       1\n",
              "['papua', 'ulatsagu']                       1\n",
              "Name: hashtags, Length: 39447, dtype: int64"
            ]
          },
          "execution_count": 48,
          "metadata": {},
          "output_type": "execute_result"
        }
      ],
      "source": [
        "detikcom_dataset['hashtags'].value_counts()"
      ]
    },
    {
      "cell_type": "markdown",
      "metadata": {
        "id": "Ssayg5nie1bK"
      },
      "source": [
        "detikcom lebih banyak menggunakan hashtag tentang corona virus"
      ]
    },
    {
      "cell_type": "code",
      "execution_count": 49,
      "metadata": {
        "colab": {
          "base_uri": "https://localhost:8080/"
        },
        "id": "HBsXBx31e2y_",
        "outputId": "f3b5b98b-38fa-4021-9086-354da26aa561"
      },
      "outputs": [
        {
          "data": {
            "text/plain": [
              "0       101667\n",
              "1        44522\n",
              "2        16977\n",
              "3         6862\n",
              "4         3083\n",
              "         ...  \n",
              "764          1\n",
              "469          1\n",
              "8251         1\n",
              "531          1\n",
              "1293         1\n",
              "Name: likes_count, Length: 529, dtype: int64"
            ]
          },
          "execution_count": 49,
          "metadata": {},
          "output_type": "execute_result"
        }
      ],
      "source": [
        "idntimes_dataset['likes_count'].value_counts()"
      ]
    },
    {
      "cell_type": "markdown",
      "metadata": {
        "id": "EAWMoR2Qe5EK"
      },
      "source": [
        "idntimes lebih banyak menggunakan hashtag berupa lifestyle"
      ]
    },
    {
      "cell_type": "code",
      "execution_count": 50,
      "metadata": {
        "colab": {
          "base_uri": "https://localhost:8080/"
        },
        "id": "hbaFhhQ9e6O_",
        "outputId": "579a3915-976a-4612-ad97-09681e330b9b"
      },
      "outputs": [
        {
          "data": {
            "text/plain": [
              "[]                                71024\n",
              "['regional']                        982\n",
              "['nasional']                        951\n",
              "['hype']                            759\n",
              "['megapolitan']                     709\n",
              "                                  ...  \n",
              "['omnibuslaw', 'uuciptakerja']        1\n",
              "['videokompas', 'gibran']             1\n",
              "['videokompas', 'monolit']            1\n",
              "['supportlokal']                      1\n",
              "['jongdae']                           1\n",
              "Name: hashtags, Length: 631, dtype: int64"
            ]
          },
          "execution_count": 50,
          "metadata": {},
          "output_type": "execute_result"
        }
      ],
      "source": [
        "kompascom_dataset['hashtags'].value_counts()"
      ]
    },
    {
      "cell_type": "markdown",
      "metadata": {
        "id": "4DTYsGN5e7MR"
      },
      "source": [
        "kompas.com lebih banyak menggunakan hashtag yang berkaitan dengan geopolitik"
      ]
    },
    {
      "cell_type": "code",
      "execution_count": 51,
      "metadata": {
        "colab": {
          "base_uri": "https://localhost:8080/"
        },
        "id": "CsT-pRcUe8WT",
        "outputId": "eba20fc8-e930-485f-eaaf-b40ccef06ed7"
      },
      "outputs": [
        {
          "data": {
            "text/plain": [
              "['kumparannews']                                                                 35305\n",
              "['publisherstory']                                                               27063\n",
              "[]                                                                               18482\n",
              "['userstory']                                                                    15694\n",
              "['kumparanbola']                                                                  7116\n",
              "                                                                                 ...  \n",
              "['nikmatinpedasnya']                                                                 1\n",
              "['waktutakbisakembali', 'semangatbersama']                                           1\n",
              "['lactamilmama', 'resilienttogether', 'awalyangbaik', 'mamapastisiap', 'ads']        1\n",
              "['protokol']                                                                         1\n",
              "['livecoronaupdate', 'kuatbersama', 'lcusandiagauno']                                1\n",
              "Name: hashtags, Length: 1164, dtype: int64"
            ]
          },
          "execution_count": 51,
          "metadata": {},
          "output_type": "execute_result"
        }
      ],
      "source": [
        "kumparan_dataset['hashtags'].value_counts()"
      ]
    },
    {
      "cell_type": "markdown",
      "metadata": {
        "id": "jm3JHmoBe9t2"
      },
      "source": [
        "kumparan lebih banyak mengangkat berita yang ditulis oleh pekerja lepas perusahaan tersebut. Karena kumparan sendiri bersifat platform media yang kolaboratif, sehingga mereka banyak mempekerjakan pekerja lepas."
      ]
    },
    {
      "cell_type": "code",
      "execution_count": 52,
      "metadata": {
        "colab": {
          "base_uri": "https://localhost:8080/"
        },
        "id": "z1tLRYuce-3S",
        "outputId": "413bdfe0-4807-4998-a9cf-1deb2123aaba"
      },
      "outputs": [
        {
          "data": {
            "text/plain": [
              "[]                                                                                        94427\n",
              "['videoliputan6']                                                                           544\n",
              "['beraniberubah', 'perubahanperilaku']                                                      345\n",
              "['cekfaktahariini', 'cekfaktahariinilip6']                                                  152\n",
              "['videoliputan6', 'coronacovid19']                                                          151\n",
              "                                                                                          ...  \n",
              "['corona', 'covid19', 'silaturahome', 'dirumahaja', 'livestreaming']                          1\n",
              "['parawajahindonesia']                                                                        1\n",
              "['livestreming', 'silaturahome', 'dirumahaja']                                                1\n",
              "['pantun', 'livestreaming', 'silaturahome', 'dirumahaja']                                     1\n",
              "['happynewyear', 'tahunbaru', 'selmattahunbaru2020', 'welcome2020', 'terimakasih2019']        1\n",
              "Name: hashtags, Length: 503, dtype: int64"
            ]
          },
          "execution_count": 52,
          "metadata": {},
          "output_type": "execute_result"
        }
      ],
      "source": [
        "liputan6_dataset['hashtags'].value_counts()"
      ]
    },
    {
      "cell_type": "markdown",
      "metadata": {
        "id": "LS__P995e_7O"
      },
      "source": [
        "berita pada liputan 6 lebih banyak membahas hashtag tentang trivia-trivia atau fakta-fakta dalam kehidupan sehari-hari."
      ]
    },
    {
      "cell_type": "code",
      "execution_count": 53,
      "metadata": {
        "colab": {
          "base_uri": "https://localhost:8080/"
        },
        "id": "GcYPh-N8fA6a",
        "outputId": "4894ff25-7c31-4980-f395-439bb1769e77"
      },
      "outputs": [
        {
          "data": {
            "text/plain": [
              "['taucepattanpabatas', 'beritaterkini', 'berita', 'news', 'beritanasional']             13431\n",
              "['taucepattanpabatas', 'celebrity', 'kabarartis', 'gosip']                              12335\n",
              "['taucepattanpabatas', 'keuangan', 'ekonomi', 'ekonomi', 'ekonomiindonesia']            11809\n",
              "['taucepattanpabatas', 'beritaterkini', 'beritaterkini', 'newsupdate']                   8496\n",
              "['taucepattanpabatas']                                                                   7258\n",
              "                                                                                        ...  \n",
              "['cefm_', '3eyond1magination']                                                              1\n",
              "['langsungbelanja']                                                                         1\n",
              "['mnc31', 'mncfest2020', '3eyond1magination', 'mnc3eyond1magination', 'hutmncgroup']        1\n",
              "['jogetinaja']                                                                              1\n",
              "['taucepattanpabatas', 'tahunbaruanokezone']                                                1\n",
              "Name: hashtags, Length: 683, dtype: int64"
            ]
          },
          "execution_count": 53,
          "metadata": {},
          "output_type": "execute_result"
        }
      ],
      "source": [
        "okezonenews_dataset['hashtags'].value_counts()"
      ]
    },
    {
      "cell_type": "markdown",
      "metadata": {
        "id": "WwHYAtwRfNfS"
      },
      "source": [
        "okezone menggunakan hashtag-hashtag sesuai dengan beritanya, okezone juga lumayan sering menggunakan taglinenya sebagai hashtag."
      ]
    },
    {
      "cell_type": "markdown",
      "metadata": {
        "id": "NC9H5iDXfB2e"
      },
      "source": [
        "kesimpulannya adalah masing-masing media mempunya ciri khas penggunaan hashtag sendiri. Hashtag sangat berpengaruh terhadap kefektifan pengguna untuk menjangkau artikel berita yang ingin ia lihat."
      ]
    }
  ],
  "metadata": {
    "colab": {
      "collapsed_sections": [],
      "provenance": [],
      "toc_visible": true
    },
    "kernelspec": {
      "display_name": "Python 3",
      "name": "python3"
    },
    "language_info": {
      "name": "python"
    }
  },
  "nbformat": 4,
  "nbformat_minor": 0
}
